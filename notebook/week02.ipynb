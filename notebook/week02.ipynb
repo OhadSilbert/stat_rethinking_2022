{
 "cells": [
  {
   "cell_type": "code",
   "execution_count": 173,
   "metadata": {},
   "outputs": [],
   "source": [
    "import logging\n",
    "import os\n",
    "\n",
    "import torch\n",
    "import numpy as np\n",
    "from numpy import random\n",
    "from itertools import product\n",
    "\n",
    "import pandas as pd\n",
    "import seaborn as sns\n",
    "import matplotlib.pyplot as plt\n",
    "plt.style.use(\"dark_background\")\n",
    "\n",
    "import pyro\n",
    "import pyro.distributions as dist\n",
    "import pyro.optim as optim\n",
    "from pyro.infer import SVI, Trace_ELBO\n",
    "from pyro.infer.autoguide import AutoLaplaceApproximation\n"
   ]
  },
  {
   "cell_type": "markdown",
   "metadata": {},
   "source": [
    "1. Construct a linear regression of weight as predicted by height, using the\n",
    "adults (age 18 or greater) from the Howell1 dataset. The heights listed below\n",
    "were recorded in the !Kung census, but weights were not recorded for these\n",
    "individuals. Provide predicted weights and 89% compatibility intervals for\n",
    "each of these individuals. That is, fill in the table below, using model-based\n",
    "predictions.\n",
    "\n",
    "    | Individual | height | expected weight | 89% interva |\n",
    "    |------------|--------|-----------------|-------------|\n",
    "    | 1          | 140    |                 |             |\n",
    "    | 2          | 160    |                 |             |\n",
    "    | 3          | 175    |                 |             |"
   ]
  },
  {
   "cell_type": "markdown",
   "metadata": {},
   "source": [
    "First we need to load the data:"
   ]
  },
  {
   "cell_type": "code",
   "execution_count": 2,
   "metadata": {},
   "outputs": [
    {
     "data": {
      "text/html": [
       "<div>\n",
       "<style scoped>\n",
       "    .dataframe tbody tr th:only-of-type {\n",
       "        vertical-align: middle;\n",
       "    }\n",
       "\n",
       "    .dataframe tbody tr th {\n",
       "        vertical-align: top;\n",
       "    }\n",
       "\n",
       "    .dataframe thead th {\n",
       "        text-align: right;\n",
       "    }\n",
       "</style>\n",
       "<table border=\"1\" class=\"dataframe\">\n",
       "  <thead>\n",
       "    <tr style=\"text-align: right;\">\n",
       "      <th></th>\n",
       "      <th>height</th>\n",
       "      <th>weight</th>\n",
       "      <th>age</th>\n",
       "      <th>male</th>\n",
       "    </tr>\n",
       "  </thead>\n",
       "  <tbody>\n",
       "    <tr>\n",
       "      <th>0</th>\n",
       "      <td>151.765</td>\n",
       "      <td>47.825606</td>\n",
       "      <td>63.0</td>\n",
       "      <td>1</td>\n",
       "    </tr>\n",
       "    <tr>\n",
       "      <th>1</th>\n",
       "      <td>139.700</td>\n",
       "      <td>36.485807</td>\n",
       "      <td>63.0</td>\n",
       "      <td>0</td>\n",
       "    </tr>\n",
       "    <tr>\n",
       "      <th>2</th>\n",
       "      <td>136.525</td>\n",
       "      <td>31.864838</td>\n",
       "      <td>65.0</td>\n",
       "      <td>0</td>\n",
       "    </tr>\n",
       "    <tr>\n",
       "      <th>3</th>\n",
       "      <td>156.845</td>\n",
       "      <td>53.041914</td>\n",
       "      <td>41.0</td>\n",
       "      <td>1</td>\n",
       "    </tr>\n",
       "    <tr>\n",
       "      <th>4</th>\n",
       "      <td>145.415</td>\n",
       "      <td>41.276872</td>\n",
       "      <td>51.0</td>\n",
       "      <td>0</td>\n",
       "    </tr>\n",
       "  </tbody>\n",
       "</table>\n",
       "</div>"
      ],
      "text/plain": [
       "    height     weight   age  male\n",
       "0  151.765  47.825606  63.0     1\n",
       "1  139.700  36.485807  63.0     0\n",
       "2  136.525  31.864838  65.0     0\n",
       "3  156.845  53.041914  41.0     1\n",
       "4  145.415  41.276872  51.0     0"
      ]
     },
     "execution_count": 2,
     "metadata": {},
     "output_type": "execute_result"
    }
   ],
   "source": [
    "howell1_df = pd.read_csv(\"../data/howell1.csv\")\n",
    "howell1_df.head()"
   ]
  },
  {
   "cell_type": "markdown",
   "metadata": {},
   "source": [
    "Since we don't know the dependance on agae, to avoid biasses, only records of $age>18$ are selected:\n"
   ]
  },
  {
   "cell_type": "code",
   "execution_count": 3,
   "metadata": {},
   "outputs": [],
   "source": [
    "howell1_18_df = howell1_df[howell1_df[\"age\"] >= 18]"
   ]
  },
  {
   "cell_type": "markdown",
   "metadata": {},
   "source": [
    "To have a sense of the problem a plot of weight vs height is created:\n"
   ]
  },
  {
   "cell_type": "code",
   "execution_count": 4,
   "metadata": {},
   "outputs": [
    {
     "data": {
      "image/png": "[encoded data removed]",
      "text/plain": [
       "<Figure size 432x288 with 1 Axes>"
      ]
     },
     "metadata": {},
     "output_type": "display_data"
    }
   ],
   "source": [
    "plt.plot(howell1_18_df.height, howell1_18_df.weight, \".\")\n",
    "plt.show()"
   ]
  },
  {
   "cell_type": "markdown",
   "metadata": {},
   "source": [
    "We start by building a linear model for the weight as a function of height:"
   ]
  },
  {
   "cell_type": "code",
   "execution_count": 5,
   "metadata": {},
   "outputs": [],
   "source": [
    "from pyro.nn import PyroSample, PyroModule\n",
    "from torch import nn"
   ]
  },
  {
   "cell_type": "code",
   "execution_count": 6,
   "metadata": {},
   "outputs": [],
   "source": [
    "class WeightFromHeight(PyroModule):\n",
    "    def __init__(self, mean_height=0.):\n",
    "        super().__init__()\n",
    "        self.mean_height = mean_height\n",
    "        self.linear = PyroModule[nn.Linear](1, 1)\n",
    "        self.linear.bias = PyroSample(dist.Normal(60., 10.).expand([1]).to_event(1))\n",
    "        self.linear.weight = PyroSample(dist.LogNormal(0., 1).expand([1, 1]).to_event(2))\n",
    "        \n",
    "    def forward(self, x, y=None):\n",
    "        x = x.view(len(x), 1)\n",
    "        x = x - self.mean_height\n",
    "        sigma = pyro.sample(\"sigma\", dist.Uniform(0., 10.))\n",
    "        mean = self.linear(x).squeeze(-1)\n",
    "        with pyro.plate(\"data\", x.shape[0]):\n",
    "            obs = pyro.sample(\"obs\", dist.Normal(mean, sigma), obs=y) \n",
    "        return mean"
   ]
  },
  {
   "cell_type": "markdown",
   "metadata": {},
   "source": [
    "After defining he model we have to define the prior to sample from. We will the default prior, reffered as a $guide$ suggested by the pyro framework.\n"
   ]
  },
  {
   "cell_type": "code",
   "execution_count": 7,
   "metadata": {},
   "outputs": [],
   "source": [
    "from pyro.infer.autoguide import AutoDiagonalNormal\n"
   ]
  },
  {
   "cell_type": "code",
   "execution_count": 8,
   "metadata": {},
   "outputs": [],
   "source": [
    "mean_height = howell1_18_df.height.mean()\n",
    "\n",
    "weight_model = WeightFromHeight(mean_height=mean_height)\n",
    "guide = AutoDiagonalNormal(weight_model)\n"
   ]
  },
  {
   "cell_type": "markdown",
   "metadata": {},
   "source": [
    "We will optimize the modl with the guide using variational inference. We let the framework to handles everything."
   ]
  },
  {
   "cell_type": "code",
   "execution_count": 9,
   "metadata": {},
   "outputs": [],
   "source": [
    "from pyro.infer import SVI, Trace_ELBO\n",
    "import tqdm\n"
   ]
  },
  {
   "cell_type": "code",
   "execution_count": 10,
   "metadata": {},
   "outputs": [],
   "source": [
    "adam = pyro.optim.Adam({\"lr\": 0.05})\n",
    "svi = SVI(weight_model, guide, adam, loss=Trace_ELBO())\n"
   ]
  },
  {
   "cell_type": "code",
   "execution_count": 11,
   "metadata": {},
   "outputs": [
    {
     "name": "stderr",
     "output_type": "stream",
     "text": [
      "loss_lin = 2.8934: 100%|██████████| 10000/10000 [00:46<00:00, 216.88it/s]\n"
     ]
    }
   ],
   "source": [
    "pyro.clear_param_store()\n",
    "num_iterations = 10000\n",
    "x_data = torch.Tensor(howell1_18_df.height.to_numpy())\n",
    "y_data = torch.Tensor(howell1_18_df.weight.to_numpy())\n",
    "\n",
    "tq = tqdm.autonotebook.trange(num_iterations)\n",
    "for j in  tq:\n",
    "    # calculate the loss and take a gradient step\n",
    "    loss = svi.step(x_data, y_data)\n",
    "    tq.set_description(f\"loss_lin = {(loss / len(howell1_18_df)):.4f}\")\n"
   ]
  },
  {
   "cell_type": "markdown",
   "metadata": {},
   "source": [
    "After the model parameters were inffered from the data, we can sample the distribution and create a posterior predictive distribution. From that distribution we can inffer the $89\\%$ confidence interval for the weight."
   ]
  },
  {
   "cell_type": "code",
   "execution_count": 12,
   "metadata": {},
   "outputs": [],
   "source": [
    "from pyro.infer import Predictive\n",
    "\n",
    "\n",
    "x_table = torch.Tensor([140, 160, 175])\n",
    "\n",
    "predictive = Predictive(weight_model, guide=guide, num_samples=1000,\n",
    "                        return_sites=(\"linear.weight\", \"obs\", \"_RETURN\"))\n",
    "samples = predictive(x_table)\n"
   ]
  },
  {
   "cell_type": "code",
   "execution_count": 13,
   "metadata": {},
   "outputs": [],
   "source": [
    "def summary(samples):\n",
    "    site_stats = {}\n",
    "    for k, v in samples.items():\n",
    "        site_stats[k] = {\n",
    "            \"mean\": torch.mean(v, 0),\n",
    "            \"std\": torch.std(v, 0),\n",
    "            \"5.5%\": v.kthvalue(int(len(v) * 0.055), dim=0)[0],\n",
    "            \"94.5%\": v.kthvalue(int(len(v) * 0.945), dim=0)[0],\n",
    "        }\n",
    "    return site_stats\n",
    "\n",
    "\n",
    "pred_summary = summary(samples)\n"
   ]
  },
  {
   "cell_type": "markdown",
   "metadata": {},
   "source": [
    "For the lineral mode of weight as a linear function of height:"
   ]
  },
  {
   "cell_type": "code",
   "execution_count": 14,
   "metadata": {},
   "outputs": [
    {
     "data": {
      "text/html": [
       "<div>\n",
       "<style scoped>\n",
       "    .dataframe tbody tr th:only-of-type {\n",
       "        vertical-align: middle;\n",
       "    }\n",
       "\n",
       "    .dataframe tbody tr th {\n",
       "        vertical-align: top;\n",
       "    }\n",
       "\n",
       "    .dataframe thead th {\n",
       "        text-align: right;\n",
       "    }\n",
       "</style>\n",
       "<table border=\"1\" class=\"dataframe\">\n",
       "  <thead>\n",
       "    <tr style=\"text-align: right;\">\n",
       "      <th></th>\n",
       "      <th>height</th>\n",
       "      <th>mu_mean</th>\n",
       "      <th>mu_perc_5.5</th>\n",
       "      <th>mu_perc_94.5</th>\n",
       "      <th>y_mean</th>\n",
       "      <th>y_perc_5.5</th>\n",
       "      <th>y_perc_94.5</th>\n",
       "    </tr>\n",
       "  </thead>\n",
       "  <tbody>\n",
       "    <tr>\n",
       "      <th>0</th>\n",
       "      <td>140.0</td>\n",
       "      <td>35.827946</td>\n",
       "      <td>34.920658</td>\n",
       "      <td>36.628609</td>\n",
       "      <td>35.724075</td>\n",
       "      <td>28.563353</td>\n",
       "      <td>42.938370</td>\n",
       "    </tr>\n",
       "    <tr>\n",
       "      <th>1</th>\n",
       "      <td>160.0</td>\n",
       "      <td>48.386185</td>\n",
       "      <td>47.945374</td>\n",
       "      <td>48.861206</td>\n",
       "      <td>48.642422</td>\n",
       "      <td>41.682564</td>\n",
       "      <td>54.970657</td>\n",
       "    </tr>\n",
       "    <tr>\n",
       "      <th>2</th>\n",
       "      <td>175.0</td>\n",
       "      <td>57.804859</td>\n",
       "      <td>56.685055</td>\n",
       "      <td>59.009262</td>\n",
       "      <td>57.874802</td>\n",
       "      <td>51.272354</td>\n",
       "      <td>64.677116</td>\n",
       "    </tr>\n",
       "  </tbody>\n",
       "</table>\n",
       "</div>"
      ],
      "text/plain": [
       "   height    mu_mean  mu_perc_5.5  mu_perc_94.5     y_mean  y_perc_5.5  \\\n",
       "0   140.0  35.827946    34.920658     36.628609  35.724075   28.563353   \n",
       "1   160.0  48.386185    47.945374     48.861206  48.642422   41.682564   \n",
       "2   175.0  57.804859    56.685055     59.009262  57.874802   51.272354   \n",
       "\n",
       "   y_perc_94.5  \n",
       "0    42.938370  \n",
       "1    54.970657  \n",
       "2    64.677116  "
      ]
     },
     "execution_count": 14,
     "metadata": {},
     "output_type": "execute_result"
    }
   ],
   "source": [
    "mu = pred_summary[\"_RETURN\"]\n",
    "y = pred_summary[\"obs\"]\n",
    "predictions = pd.DataFrame({\n",
    "    \"height\": x_table,\n",
    "    \"mu_mean\": mu[\"mean\"],\n",
    "    \"mu_perc_5.5\": mu[\"5.5%\"],\n",
    "    \"mu_perc_94.5\": mu[\"94.5%\"],\n",
    "    \"y_mean\": y[\"mean\"],\n",
    "    \"y_perc_5.5\": y[\"5.5%\"],\n",
    "    \"y_perc_94.5\": y[\"94.5%\"],\n",
    "})\n",
    "predictions"
   ]
  },
  {
   "cell_type": "markdown",
   "metadata": {},
   "source": [
    "So for this model:  \n",
    "\n",
    "| Individual | height | expected weight | 89% interva |\n",
    "|------------|--------|-----------------|-------------|\n",
    "| 1          | 140    | 36.2            | 29.4 - 42.7 |\n",
    "| 2          | 160    | 48.1            | 41.5 - 55.1 |\n",
    "| 3          | 175    | 57.0            | 50.1 - 63.8 |"
   ]
  },
  {
   "cell_type": "markdown",
   "metadata": {},
   "source": [
    "We can draw the $89\\%$ confidence interval for the weight as a function of height:"
   ]
  },
  {
   "cell_type": "code",
   "execution_count": 15,
   "metadata": {},
   "outputs": [],
   "source": [
    "samples_data = predictive(x_data)\n",
    "pred_data_summary = summary(samples_data)\n"
   ]
  },
  {
   "cell_type": "code",
   "execution_count": 16,
   "metadata": {},
   "outputs": [],
   "source": [
    "mu_data = pred_data_summary[\"_RETURN\"]\n",
    "pred_y_data = pred_data_summary[\"obs\"]\n",
    "predictions_data = pd.DataFrame({\n",
    "    \"height\": x_data,\n",
    "    \"mu_mean\": mu_data[\"mean\"],\n",
    "    \"mu_perc_5.5\": mu_data[\"5.5%\"],\n",
    "    \"mu_perc_94.5\": mu_data[\"94.5%\"],\n",
    "    \"y_mean\": pred_y_data[\"mean\"],\n",
    "    \"y_perc_5.5\": pred_y_data[\"5.5%\"],\n",
    "    \"y_perc_94.5\": pred_y_data[\"94.5%\"],\n",
    "    \"weight\": y_data,\n",
    "})\n"
   ]
  },
  {
   "cell_type": "code",
   "execution_count": 17,
   "metadata": {},
   "outputs": [
    {
     "data": {
      "image/png": "[encoded data removed]",
      "text/plain": [
       "<Figure size 864x432 with 2 Axes>"
      ]
     },
     "metadata": {},
     "output_type": "display_data"
    }
   ],
   "source": [
    "fig, ax = plt.subplots(nrows=1, ncols=2, figsize=(12, 6), sharey=True)\n",
    "fig.suptitle(\"Regression line 89% CI\", fontsize=16)\n",
    "preds_data = predictions_data.sort_values(\"height\")\n",
    "ax[0].plot(preds_data[\"height\"],\n",
    "        preds_data[\"mu_mean\"])\n",
    "ax[0].fill_between(preds_data[\"height\"],\n",
    "                   preds_data[\"mu_perc_5.5\"],\n",
    "                   preds_data[\"mu_perc_94.5\"],\n",
    "                   alpha=0.8)\n",
    "ax[0].plot(preds_data[\"height\"],\n",
    "           preds_data[\"weight\"],\n",
    "           \"o\")\n",
    "ax[0].set(xlabel=\"Height\", \n",
    "          ylabel=\"Weight\",\n",
    "          title=\"Mean weight from height\")\n",
    "\n",
    "ax[1].plot(preds_data[\"height\"],\n",
    "           preds_data[\"y_mean\"])\n",
    "ax[1].fill_between(preds_data[\"height\"],\n",
    "                   preds_data[\"y_perc_5.5\"],\n",
    "                   preds_data[\"y_perc_94.5\"],\n",
    "                   alpha=0.8)\n",
    "ax[1].plot(preds_data[\"height\"],\n",
    "           preds_data[\"weight\"],\n",
    "           \"o\")\n",
    "ax[1].set(xlabel=\"Height\", \n",
    "          ylabel=\"Weight\",\n",
    "          title=\"Weight from height\")\n",
    "pass"
   ]
  },
  {
   "cell_type": "markdown",
   "metadata": {},
   "source": [
    "2. From the Howell1 dataset, consider only the people younger than 13 years old. Estimate the causal association between age and weight. Assume that age influences weight through two paths. First, age influences height, and height influences weight. Second, age directly influences weight through agerelated changes in muscle growth and body proportions. All of this implies this causal model (DAG):  \n",
    "![DAG](DAG02.png)  \n",
    "Use a linear regression to estimate the total (not just direct) causal effect of each year of growth on weight. Be sure to carefully consider the priors. Try using prior predictive simulation to assess what they imply."
   ]
  },
  {
   "cell_type": "markdown",
   "metadata": {},
   "source": [
    "We can build a linar model for the weight as a function of age in the same way it was done for the height."
   ]
  },
  {
   "cell_type": "code",
   "execution_count": 18,
   "metadata": {},
   "outputs": [],
   "source": [
    "class WeightFromAge(PyroModule):\n",
    "    def __init__(self):\n",
    "        super().__init__()\n",
    "        self.linear = PyroModule[nn.Linear](1, 1)\n",
    "        self.linear.bias = PyroSample(dist.Normal(5., 1.).expand([1]).to_event(1))\n",
    "        self.linear.weight = PyroSample(dist.LogNormal(0., 1).expand([1, 1]).to_event(2))\n",
    "        \n",
    "    def forward(self, x, y=None):\n",
    "        x = x.view(len(x), 1)\n",
    "        sigma = pyro.sample(\"age_sigma\", dist.Exponential(1.))\n",
    "        mean = self.linear(x).squeeze(-1)\n",
    "        with pyro.plate(\"age_data\", x.shape[0]):\n",
    "            obs = pyro.sample(\"age_obs\", dist.Normal(mean, sigma), obs=y) \n",
    "        return mean"
   ]
  },
  {
   "cell_type": "code",
   "execution_count": 19,
   "metadata": {},
   "outputs": [],
   "source": [
    "howell1_13_df = howell1_df[howell1_df[\"age\"] < 13]"
   ]
  },
  {
   "cell_type": "code",
   "execution_count": 20,
   "metadata": {},
   "outputs": [],
   "source": [
    "weight_age_model = WeightFromAge()\n",
    "guide_age = AutoDiagonalNormal(weight_age_model)\n"
   ]
  },
  {
   "cell_type": "code",
   "execution_count": 21,
   "metadata": {},
   "outputs": [],
   "source": [
    "adam_age = pyro.optim.Adam({\"lr\": 0.05})\n",
    "svi_age = SVI(weight_age_model, guide_age, adam_age, loss=Trace_ELBO())\n"
   ]
  },
  {
   "cell_type": "code",
   "execution_count": 22,
   "metadata": {},
   "outputs": [
    {
     "name": "stderr",
     "output_type": "stream",
     "text": [
      "loss_lin = 2.4275: 100%|██████████| 1000/1000 [00:04<00:00, 239.11it/s]\n"
     ]
    }
   ],
   "source": [
    "pyro.clear_param_store()\n",
    "num_iterations = 1000\n",
    "x_data = torch.Tensor(howell1_13_df.age.to_numpy())\n",
    "y_data = torch.Tensor(howell1_13_df.weight.to_numpy())\n",
    "\n",
    "tq = tqdm.autonotebook.trange(num_iterations)\n",
    "for j in  tq:\n",
    "    # calculate the loss and take a gradient step\n",
    "    loss_age = svi_age.step(x_data, y_data)\n",
    "    tq.set_description(f\"loss_lin = {(loss_age / len(howell1_13_df)):.4f}\")\n"
   ]
  },
  {
   "cell_type": "code",
   "execution_count": 23,
   "metadata": {},
   "outputs": [],
   "source": [
    "predictive_age = Predictive(weight_age_model, guide=guide_age, num_samples=1000,\n",
    "                            return_sites=(\"linear.weight\", \"linear.bias\", \"age_sigma\"))"
   ]
  },
  {
   "cell_type": "code",
   "execution_count": 24,
   "metadata": {},
   "outputs": [
    {
     "data": {
      "text/html": [
       "<div>\n",
       "<style scoped>\n",
       "    .dataframe tbody tr th:only-of-type {\n",
       "        vertical-align: middle;\n",
       "    }\n",
       "\n",
       "    .dataframe tbody tr th {\n",
       "        vertical-align: top;\n",
       "    }\n",
       "\n",
       "    .dataframe thead th {\n",
       "        text-align: right;\n",
       "    }\n",
       "</style>\n",
       "<table border=\"1\" class=\"dataframe\">\n",
       "  <thead>\n",
       "    <tr style=\"text-align: right;\">\n",
       "      <th></th>\n",
       "      <th>mean</th>\n",
       "      <th>std</th>\n",
       "      <th>5.5%</th>\n",
       "      <th>94.5%</th>\n",
       "    </tr>\n",
       "  </thead>\n",
       "  <tbody>\n",
       "    <tr>\n",
       "      <th>linear_weight</th>\n",
       "      <td>1.360074</td>\n",
       "      <td>0.034785</td>\n",
       "      <td>1.303018</td>\n",
       "      <td>1.417021</td>\n",
       "    </tr>\n",
       "    <tr>\n",
       "      <th>linear_bias</th>\n",
       "      <td>7.137518</td>\n",
       "      <td>0.204165</td>\n",
       "      <td>6.817403</td>\n",
       "      <td>7.457425</td>\n",
       "    </tr>\n",
       "    <tr>\n",
       "      <th>sigma</th>\n",
       "      <td>2.502879</td>\n",
       "      <td>0.155694</td>\n",
       "      <td>2.263458</td>\n",
       "      <td>2.751606</td>\n",
       "    </tr>\n",
       "  </tbody>\n",
       "</table>\n",
       "</div>"
      ],
      "text/plain": [
       "                   mean       std      5.5%     94.5%\n",
       "linear_weight  1.360074  0.034785  1.303018  1.417021\n",
       "linear_bias    7.137518  0.204165  6.817403  7.457425\n",
       "sigma          2.502879  0.155694  2.263458  2.751606"
      ]
     },
     "execution_count": 24,
     "metadata": {},
     "output_type": "execute_result"
    }
   ],
   "source": [
    "s_age = summary(predictive_age(torch.Tensor([0.])))\n",
    "pd.DataFrame(\n",
    "    {stat: {\n",
    "            \"linear_weight\": s_age[\"linear.weight\"][stat][0, 0, 0].item(),\n",
    "            \"linear_bias\": s_age[\"linear.bias\"][stat][0, 0].item(),\n",
    "            \"sigma\": s_age[\"age_sigma\"][stat][0].item()\n",
    "        } for stat in [\"mean\", \"std\", \"5.5%\", \"94.5%\"]\n",
    "    })"
   ]
  },
  {
   "cell_type": "markdown",
   "metadata": {},
   "source": [
    "3. Now suppose the causal association between age and weight might be different for boys and girls. Use a single linear regression, with a categorical variable for sex, to estimate the total causal effect of age on weight separately for boys and girls. How do girls and boys differ? Provide one or more posterior contrasts as a summary."
   ]
  },
  {
   "cell_type": "markdown",
   "metadata": {},
   "source": [
    "These are just the same models as before but with sex index. The solution suggested by the author suggests that only the mean value is different between boys and girls, but that the spread (standard deviation) is the same. We will follow this solution."
   ]
  },
  {
   "cell_type": "code",
   "execution_count": 101,
   "metadata": {},
   "outputs": [],
   "source": [
    "class WeightFromAgeAndSex(PyroModule):\n",
    "    def __init__(self):\n",
    "        super().__init__()\n",
    "        self.n_sexes = 2\n",
    "        self.weights = PyroSample(dist.LogNormal(0., 1).expand([self.n_sexes, 1]).to_event(2))\n",
    "        self.biases = PyroSample(dist.Normal(5., 1.).expand([self.n_sexes, 1]).to_event(2)) \n",
    "        pass\n",
    "        \n",
    "    def forward(self, x, y=None):\n",
    "        in_x = x[:, 0].unsqueeze(-1)\n",
    "        sex = nn.functional.one_hot(x[:, 1].long(), self.n_sexes)\n",
    "        sigma = pyro.sample(\"sex_age_sigma\", dist.Exponential(1.))\n",
    "        mean = (in_x * (sex.float() @ self.weights) + (sex.float() @ self.biases)).squeeze(-1)\n",
    "        with pyro.plate(\"sex_age_data\", in_x.shape[0]):\n",
    "            obs = pyro.sample(\"sex_age_obs\", dist.Normal(mean, sigma), obs=y) \n",
    "        return mean\n"
   ]
  },
  {
   "cell_type": "code",
   "execution_count": 102,
   "metadata": {},
   "outputs": [],
   "source": [
    "weight_age_and_sex_model = WeightFromAgeAndSex()\n",
    "guide_age_and_sex = AutoDiagonalNormal(weight_age_and_sex_model)\n"
   ]
  },
  {
   "cell_type": "code",
   "execution_count": 103,
   "metadata": {},
   "outputs": [],
   "source": [
    "adam_age_and_sex = pyro.optim.Adam({\"lr\": 0.05})\n",
    "svi_age_and_sex = SVI(weight_age_and_sex_model, guide_age_and_sex, adam_age_and_sex, loss=Trace_ELBO())\n"
   ]
  },
  {
   "cell_type": "code",
   "execution_count": 104,
   "metadata": {},
   "outputs": [
    {
     "name": "stderr",
     "output_type": "stream",
     "text": [
      "loss_lin = 2.4252: 100%|██████████| 1000/1000 [00:05<00:00, 176.16it/s]\n"
     ]
    }
   ],
   "source": [
    "pyro.clear_param_store()\n",
    "num_iterations = 1000\n",
    "x = torch.Tensor(howell1_13_df[[\"age\", \"male\"]].to_numpy())\n",
    "y = torch.Tensor(howell1_13_df.weight.to_numpy())\n",
    "\n",
    "tq = tqdm.autonotebook.trange(num_iterations)\n",
    "for j in  tq:\n",
    "    # calculate the loss and take a gradient step\n",
    "    loss_age_and_sex = svi_age_and_sex.step(x, y)\n",
    "    tq.set_description(f\"loss_lin = {(loss_age_and_sex / len(howell1_13_df)):.4f}\")\n"
   ]
  },
  {
   "cell_type": "code",
   "execution_count": 106,
   "metadata": {},
   "outputs": [
    {
     "name": "stdout",
     "output_type": "stream",
     "text": [
      "                      mean       std      5.5%     94.5%\n",
      "female_slope      1.348639  0.041880  1.282423  1.415825\n",
      "female_intercept  6.727740  0.222213  6.363873  7.082108\n",
      "male_slope        1.428399  0.042600  1.361920  1.494401\n",
      "male_intercept    7.326562  0.279967  6.881546  7.791641\n",
      "sigma             2.488968  0.145255  2.266096  2.734884\n"
     ]
    }
   ],
   "source": [
    "predictive_age_and_sex = Predictive(\n",
    "    weight_age_and_sex_model, \n",
    "    guide=guide_age_and_sex, \n",
    "    num_samples=1000, \n",
    "    return_sites= (\"weights\", \"biases\", \"sex_age_sigma\")\n",
    "    )\n",
    "\n",
    "pred = predictive_age_and_sex(torch.Tensor([[0., 0.]]))\n",
    "s_age = summary(pred)\n",
    "print(pd.DataFrame(\n",
    "    {stat: {\n",
    "            \"female_slope\": s_age[\"weights\"][stat][0, 0, 0].item(),\n",
    "            \"female_intercept\": s_age[\"biases\"][stat][0, 0, 0].item(),\n",
    "            \"male_slope\": s_age[\"weights\"][stat][0, 1, 0].item(),\n",
    "            \"male_intercept\": s_age[\"biases\"][stat][0, 1, 0].item(),\n",
    "            \"sigma\": s_age[\"sex_age_sigma\"][stat][0].item()\n",
    "        } for stat in [\"mean\", \"std\", \"5.5%\", \"94.5%\"]\n",
    "    }))"
   ]
  },
  {
   "cell_type": "markdown",
   "metadata": {},
   "source": [
    "We can draw the prediction trends on the data:"
   ]
  },
  {
   "cell_type": "code",
   "execution_count": 146,
   "metadata": {},
   "outputs": [],
   "source": [
    "predictive = Predictive(\n",
    "    weight_age_and_sex_model, \n",
    "    guide=guide_age_and_sex, \n",
    "    num_samples=1000,\n",
    "    return_sites=(\"weights\", \"biases\", \"sex_age_sigma\", \"sex_age_obs\", \"_RETURN\"))\n",
    "samples_data = predictive(x)\n",
    "pred_data_summary = summary(samples_data)\n",
    "mu_data = pred_data_summary[\"_RETURN\"]\n"
   ]
  },
  {
   "cell_type": "code",
   "execution_count": 147,
   "metadata": {},
   "outputs": [],
   "source": [
    "predictions_data = pd.DataFrame({\n",
    "    \"age\": x[:, 0],\n",
    "    \"male\": x[:, 1],\n",
    "    \"weight\": y,\n",
    "    \"mu_mean\": mu_data[\"mean\"],\n",
    "    \"mu_std\": mu_data[\"std\"],\n",
    "    \"mu_5.5\": mu_data[\"5.5%\"],\n",
    "    \"mu_94.5\": mu_data[\"94.5%\"],\n",
    "    \n",
    "})\n"
   ]
  },
  {
   "cell_type": "code",
   "execution_count": 152,
   "metadata": {},
   "outputs": [
    {
     "data": {
      "image/png": "[encoded data removed]",
      "text/plain": [
       "<Figure size 864x432 with 1 Axes>"
      ]
     },
     "metadata": {},
     "output_type": "display_data"
    }
   ],
   "source": [
    "fig, ax = plt.subplots(nrows=1, ncols=1, figsize=(12, 6), sharey=True)\n",
    "fig.suptitle(\"Regression line 89% CI\", fontsize=16)\n",
    "preds_data = predictions_data.sort_values(\"age\")\n",
    "ax.plot(preds_data[preds_data[\"male\"]==1][\"age\"],\n",
    "        preds_data[preds_data[\"male\"]==1][\"weight\"],\n",
    "        \"o\", markerfacecolor=\"blue\", markeredgecolor=\"lightblue\")\n",
    "ax.plot(preds_data[preds_data[\"male\"]==0][\"age\"],\n",
    "        preds_data[preds_data[\"male\"]==0][\"weight\"],\n",
    "        \"o\", markerfacecolor=\"deeppink\", markeredgecolor=\"lightpink\")\n",
    "\n",
    "ax.fill_between(preds_data[preds_data[\"male\"]==1][\"age\"],\n",
    "                preds_data[preds_data[\"male\"]==1][\"mu_5.5\"],\n",
    "                preds_data[preds_data[\"male\"]==1][\"mu_94.5\"],\n",
    "                alpha=0.8, facecolor=\"blue\")\n",
    "ax.plot(preds_data[preds_data[\"male\"]==1][\"age\"],\n",
    "        preds_data[preds_data[\"male\"]==1][\"mu_mean\"],\n",
    "        \"-\", color=\"lightblue\")\n",
    "\n",
    "ax.fill_between(preds_data[preds_data[\"male\"]==0][\"age\"],\n",
    "                preds_data[preds_data[\"male\"]==0][\"mu_5.5\"],\n",
    "                preds_data[preds_data[\"male\"]==0][\"mu_94.5\"],\n",
    "                alpha=0.8, facecolor=\"deeppink\")\n",
    "ax.plot(preds_data[preds_data[\"male\"]==0][\"age\"],\n",
    "        preds_data[preds_data[\"male\"]==0][\"mu_mean\"],\n",
    "        \"-\", color=\"lightpink\")\n",
    "pass"
   ]
  },
  {
   "cell_type": "markdown",
   "metadata": {},
   "source": [
    "The weight difference distribution between males and females as a function of age can be derived:"
   ]
  },
  {
   "cell_type": "code",
   "execution_count": 234,
   "metadata": {},
   "outputs": [],
   "source": [
    "predictive = Predictive(\n",
    "    weight_age_and_sex_model, \n",
    "    guide=guide_age_and_sex, \n",
    "    num_samples=10000,\n",
    "    return_sites=(\"sex_age_obs\", \"_RETURN\"))\n"
   ]
  },
  {
   "cell_type": "code",
   "execution_count": 235,
   "metadata": {},
   "outputs": [],
   "source": [
    "\n",
    "ages = np.linspace(0., 13., 131)\n",
    "sexes = np.arange(2)\n",
    "x = torch.Tensor(np.array(list(product(ages, sexes))))"
   ]
  },
  {
   "cell_type": "code",
   "execution_count": 236,
   "metadata": {},
   "outputs": [],
   "source": [
    "pred_samples = predictive(x)\n",
    "sex_age_obs = pred_samples[\"sex_age_obs\"]"
   ]
  },
  {
   "cell_type": "code",
   "execution_count": 237,
   "metadata": {},
   "outputs": [],
   "source": [
    "sex_age_obs_female = sex_age_obs[:, x[:, 1] == 0]\n",
    "sex_age_obs_male = sex_age_obs[:, x[:, 1] == 1]\n",
    "weight_difference = sex_age_obs_male - sex_age_obs_female\n",
    "age_val = x[x[:, 1] == 0, 0]"
   ]
  },
  {
   "cell_type": "code",
   "execution_count": 238,
   "metadata": {},
   "outputs": [],
   "source": [
    "d = dict()\n",
    "for v in [0.5, 0.67, 0.89, 0.99]:\n",
    "    margin = 1. - v\n",
    "    down = margin / 2.\n",
    "    up = 1. - margin / 2\n",
    "    d[f\"{v}_down\"] = weight_difference.kthvalue(int(len(weight_difference) * down), dim=0)[0]\n",
    "    d[f\"{v}_up\"] = weight_difference.kthvalue(int(len(weight_difference) * up), dim=0)[0]\n",
    "weight_difference_df = pd.DataFrame(d, index=age_val.numpy())"
   ]
  },
  {
   "cell_type": "code",
   "execution_count": 239,
   "metadata": {},
   "outputs": [
    {
     "data": {
      "image/png": "[encoded data removed]",
      "text/plain": [
       "<Figure size 864x432 with 1 Axes>"
      ]
     },
     "metadata": {},
     "output_type": "display_data"
    }
   ],
   "source": [
    "fig, ax = plt.subplots(nrows=1, ncols=1, figsize=(12, 6), sharey=True)\n",
    "fig.suptitle(\"Confidence bands of 0.5, 0.67 0.89 and 0.99\", fontsize=16)\n",
    "\n",
    "ax.fill_between(age_val.numpy(),\n",
    "                weight_difference_df[\"0.99_down\"],\n",
    "                weight_difference_df[\"0.99_up\"],\n",
    "                facecolor=\"dimgrey\")\n",
    "ax.fill_between(age_val.numpy(),\n",
    "                weight_difference_df[\"0.89_down\"],\n",
    "                weight_difference_df[\"0.89_up\"],\n",
    "                facecolor=\"grey\")\n",
    "ax.fill_between(age_val.numpy(),\n",
    "                weight_difference_df[\"0.67_down\"],\n",
    "                weight_difference_df[\"0.67_up\"],\n",
    "                facecolor=\"lightgrey\")\n",
    "ax.fill_between(age_val.numpy(),\n",
    "                weight_difference_df[\"0.5_down\"],\n",
    "                weight_difference_df[\"0.5_up\"],\n",
    "                facecolor=\"whitesmoke\")\n",
    "ax.plot(age_val.numpy(), np.zeros_like(age_val.numpy()), \"--\", color=\"black\")\n",
    "\n",
    "pass"
   ]
  },
  {
   "cell_type": "markdown",
   "metadata": {},
   "source": [
    "4. OPTIONAL CHALLENGE. Suppose there is bias in sampling so that Land\n",
    "is more likely than Water to be recorded. Specifically, assume that 1-in-5\n",
    "(20%) of Water samples are accidentally recorded instead as ”Land”. First,\n",
    "write a generative simulation of this sampling process. Assuming the true\n",
    "proportion of Water is 0.70, what proportion does your simulation tend to\n",
    "produce instead? Second, using a simulated sample of 20 tosses, compute\n",
    "the unbiased posterior distribution of the true proportion of water."
   ]
  },
  {
   "cell_type": "code",
   "execution_count": null,
   "metadata": {},
   "outputs": [],
   "source": []
  }
 ],
 "metadata": {
  "kernelspec": {
   "display_name": "Python 3.7.11 ('torch')",
   "language": "python",
   "name": "python3"
  },
  "language_info": {
   "codemirror_mode": {
    "name": "ipython",
    "version": 3
   },
   "file_extension": ".py",
   "mimetype": "text/x-python",
   "name": "python",
   "nbconvert_exporter": "python",
   "pygments_lexer": "ipython3",
   "version": "3.7.11"
  },
  "orig_nbformat": 4,
  "vscode": {
   "interpreter": {
    "hash": "80405bd19cfdd83c3e885f12c152c40f4588e551ddca57842b77a908de0a6d38"
   }
  }
 },
 "nbformat": 4,
 "nbformat_minor": 2
}
