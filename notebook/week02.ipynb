{
 "cells": [
  {
   "cell_type": "code",
   "execution_count": 1,
   "metadata": {},
   "outputs": [],
   "source": [
    "import logging\n",
    "import os\n",
    "\n",
    "import torch\n",
    "import numpy as np\n",
    "from numpy import random\n",
    "\n",
    "import pandas as pd\n",
    "import seaborn as sns\n",
    "import matplotlib.pyplot as plt\n",
    "plt.style.use(\"dark_background\")\n",
    "\n",
    "import pyro\n",
    "import pyro.distributions as dist\n",
    "import pyro.optim as optim\n",
    "from pyro.infer import SVI, Trace_ELBO\n",
    "from pyro.infer.autoguide import AutoLaplaceApproximation\n"
   ]
  },
  {
   "cell_type": "markdown",
   "metadata": {},
   "source": [
    "1. Construct a linear regression of weight as predicted by height, using the\n",
    "adults (age 18 or greater) from the Howell1 dataset. The heights listed below\n",
    "were recorded in the !Kung census, but weights were not recorded for these\n",
    "individuals. Provide predicted weights and 89% compatibility intervals for\n",
    "each of these individuals. That is, fill in the table below, using model-based\n",
    "predictions.\n",
    "\n",
    "    | Individual | height | expected weight | 89% interva |\n",
    "    |------------|--------|-----------------|-------------|\n",
    "    | 1          | 140    |                 |             |\n",
    "    | 2          | 160    |                 |             |\n",
    "    | 3          | 175    |                 |             |"
   ]
  },
  {
   "cell_type": "markdown",
   "metadata": {},
   "source": [
    "First we need to load the data:"
   ]
  },
  {
   "cell_type": "code",
   "execution_count": 2,
   "metadata": {},
   "outputs": [
    {
     "data": {
      "text/html": [
       "<div>\n",
       "<style scoped>\n",
       "    .dataframe tbody tr th:only-of-type {\n",
       "        vertical-align: middle;\n",
       "    }\n",
       "\n",
       "    .dataframe tbody tr th {\n",
       "        vertical-align: top;\n",
       "    }\n",
       "\n",
       "    .dataframe thead th {\n",
       "        text-align: right;\n",
       "    }\n",
       "</style>\n",
       "<table border=\"1\" class=\"dataframe\">\n",
       "  <thead>\n",
       "    <tr style=\"text-align: right;\">\n",
       "      <th></th>\n",
       "      <th>height</th>\n",
       "      <th>weight</th>\n",
       "      <th>age</th>\n",
       "      <th>male</th>\n",
       "    </tr>\n",
       "  </thead>\n",
       "  <tbody>\n",
       "    <tr>\n",
       "      <th>0</th>\n",
       "      <td>151.765</td>\n",
       "      <td>47.825606</td>\n",
       "      <td>63.0</td>\n",
       "      <td>1</td>\n",
       "    </tr>\n",
       "    <tr>\n",
       "      <th>1</th>\n",
       "      <td>139.700</td>\n",
       "      <td>36.485807</td>\n",
       "      <td>63.0</td>\n",
       "      <td>0</td>\n",
       "    </tr>\n",
       "    <tr>\n",
       "      <th>2</th>\n",
       "      <td>136.525</td>\n",
       "      <td>31.864838</td>\n",
       "      <td>65.0</td>\n",
       "      <td>0</td>\n",
       "    </tr>\n",
       "    <tr>\n",
       "      <th>3</th>\n",
       "      <td>156.845</td>\n",
       "      <td>53.041914</td>\n",
       "      <td>41.0</td>\n",
       "      <td>1</td>\n",
       "    </tr>\n",
       "    <tr>\n",
       "      <th>4</th>\n",
       "      <td>145.415</td>\n",
       "      <td>41.276872</td>\n",
       "      <td>51.0</td>\n",
       "      <td>0</td>\n",
       "    </tr>\n",
       "  </tbody>\n",
       "</table>\n",
       "</div>"
      ],
      "text/plain": [
       "    height     weight   age  male\n",
       "0  151.765  47.825606  63.0     1\n",
       "1  139.700  36.485807  63.0     0\n",
       "2  136.525  31.864838  65.0     0\n",
       "3  156.845  53.041914  41.0     1\n",
       "4  145.415  41.276872  51.0     0"
      ]
     },
     "execution_count": 2,
     "metadata": {},
     "output_type": "execute_result"
    }
   ],
   "source": [
    "howell1_df = pd.read_csv(\"../data/howell1.csv\")\n",
    "howell1_df.head()"
   ]
  },
  {
   "cell_type": "markdown",
   "metadata": {},
   "source": [
    "Since we don't know the dependance on agae, to avoid biasses, only records of $age>18$ are selected:\n"
   ]
  },
  {
   "cell_type": "code",
   "execution_count": 3,
   "metadata": {},
   "outputs": [],
   "source": [
    "howell1_18_df = howell1_df[howell1_df[\"age\"] >= 18]"
   ]
  },
  {
   "cell_type": "markdown",
   "metadata": {},
   "source": [
    "To have a sense of the problem a plot of weight vs height is created:\n"
   ]
  },
  {
   "cell_type": "code",
   "execution_count": 4,
   "metadata": {},
   "outputs": [
    {
     "data": {
      "image/png": "[encoded data removed]",
      "text/plain": [
       "<Figure size 432x288 with 1 Axes>"
      ]
     },
     "metadata": {},
     "output_type": "display_data"
    }
   ],
   "source": [
    "plt.plot(howell1_18_df.height, howell1_18_df.weight, \".\")\n",
    "plt.show()"
   ]
  },
  {
   "cell_type": "markdown",
   "metadata": {},
   "source": [
    "We start by building a linear model for the weight as a function of height:"
   ]
  },
  {
   "cell_type": "code",
   "execution_count": 5,
   "metadata": {},
   "outputs": [],
   "source": [
    "from pyro.nn import PyroSample, PyroModule\n",
    "from torch import nn"
   ]
  },
  {
   "cell_type": "code",
   "execution_count": 6,
   "metadata": {},
   "outputs": [],
   "source": [
    "class WeightFromHeight(PyroModule):\n",
    "    def __init__(self, mean_height=0.):\n",
    "        super().__init__()\n",
    "        self.mean_height = mean_height\n",
    "        self.linear = PyroModule[nn.Linear](1, 1)\n",
    "        self.linear.bias = PyroSample(dist.Normal(60., 10.).expand([1]).to_event(1))\n",
    "        self.linear.weight = PyroSample(dist.LogNormal(0., 1).expand([1, 1]).to_event(2))\n",
    "        \n",
    "    def forward(self, x, y=None):\n",
    "        x = x.view(len(x), 1)\n",
    "        x = x - self.mean_height\n",
    "        sigma = pyro.sample(\"sigma\", dist.Uniform(0., 10.))\n",
    "        mean = self.linear(x).squeeze(-1)\n",
    "        with pyro.plate(\"data\", x.shape[0]):\n",
    "            obs = pyro.sample(\"obs\", dist.Normal(mean, sigma), obs=y) \n",
    "        return mean"
   ]
  },
  {
   "cell_type": "markdown",
   "metadata": {},
   "source": [
    "After defining he model we have to define the prior to sample from. We will the default prior, reffered as a $guide$ suggested by the pyro framework.\n"
   ]
  },
  {
   "cell_type": "code",
   "execution_count": 7,
   "metadata": {},
   "outputs": [],
   "source": [
    "from pyro.infer.autoguide import AutoDiagonalNormal\n"
   ]
  },
  {
   "cell_type": "code",
   "execution_count": 8,
   "metadata": {},
   "outputs": [],
   "source": [
    "mean_height = howell1_18_df.height.mean()\n",
    "\n",
    "weight_model = WeightFromHeight(mean_height=mean_height)\n",
    "guide = AutoDiagonalNormal(weight_model)\n"
   ]
  },
  {
   "cell_type": "markdown",
   "metadata": {},
   "source": [
    "We will optimize the modl with the guide using variational inference. We let the framework to handles everything."
   ]
  },
  {
   "cell_type": "code",
   "execution_count": 9,
   "metadata": {},
   "outputs": [],
   "source": [
    "from pyro.infer import SVI, Trace_ELBO\n",
    "import tqdm\n"
   ]
  },
  {
   "cell_type": "code",
   "execution_count": 10,
   "metadata": {},
   "outputs": [],
   "source": [
    "adam = pyro.optim.Adam({\"lr\": 0.05})\n",
    "svi = SVI(weight_model, guide, adam, loss=Trace_ELBO())\n"
   ]
  },
  {
   "cell_type": "code",
   "execution_count": 11,
   "metadata": {},
   "outputs": [
    {
     "name": "stderr",
     "output_type": "stream",
     "text": [
      "loss_lin = 2.8942: 100%|██████████| 10000/10000 [00:44<00:00, 225.82it/s]\n"
     ]
    }
   ],
   "source": [
    "pyro.clear_param_store()\n",
    "num_iterations = 10000\n",
    "x_data = torch.Tensor(howell1_18_df.height.to_numpy())\n",
    "y_data = torch.Tensor(howell1_18_df.weight.to_numpy())\n",
    "\n",
    "tq = tqdm.autonotebook.trange(num_iterations)\n",
    "for j in  tq:\n",
    "    # calculate the loss and take a gradient step\n",
    "    loss = svi.step(x_data, y_data)\n",
    "    tq.set_description(f\"loss_lin = {(loss / len(howell1_18_df)):.4f}\")\n"
   ]
  },
  {
   "cell_type": "markdown",
   "metadata": {},
   "source": [
    "After the model parameters were inffered from the data, we can sample the distribution and create a posterior predictive distribution. From that distribution we can inffer the $89\\%$ confidence interval for the weight."
   ]
  },
  {
   "cell_type": "code",
   "execution_count": 12,
   "metadata": {},
   "outputs": [],
   "source": [
    "from pyro.infer import Predictive\n",
    "\n",
    "\n",
    "x_table = torch.Tensor([140, 160, 175])\n",
    "\n",
    "predictive = Predictive(weight_model, guide=guide, num_samples=1000,\n",
    "                        return_sites=(\"linear.weight\", \"obs\", \"_RETURN\"))\n",
    "samples = predictive(x_table)\n"
   ]
  },
  {
   "cell_type": "code",
   "execution_count": 13,
   "metadata": {},
   "outputs": [],
   "source": [
    "def summary(samples):\n",
    "    site_stats = {}\n",
    "    for k, v in samples.items():\n",
    "        site_stats[k] = {\n",
    "            \"mean\": torch.mean(v, 0),\n",
    "            \"std\": torch.std(v, 0),\n",
    "            \"5.5%\": v.kthvalue(int(len(v) * 0.055), dim=0)[0],\n",
    "            \"94.5%\": v.kthvalue(int(len(v) * 0.945), dim=0)[0],\n",
    "        }\n",
    "    return site_stats\n",
    "\n",
    "\n",
    "pred_summary = summary(samples)\n"
   ]
  },
  {
   "cell_type": "markdown",
   "metadata": {},
   "source": [
    "For the lineral mode of weight as a linear function of height:"
   ]
  },
  {
   "cell_type": "code",
   "execution_count": 14,
   "metadata": {},
   "outputs": [
    {
     "data": {
      "text/html": [
       "<div>\n",
       "<style scoped>\n",
       "    .dataframe tbody tr th:only-of-type {\n",
       "        vertical-align: middle;\n",
       "    }\n",
       "\n",
       "    .dataframe tbody tr th {\n",
       "        vertical-align: top;\n",
       "    }\n",
       "\n",
       "    .dataframe thead th {\n",
       "        text-align: right;\n",
       "    }\n",
       "</style>\n",
       "<table border=\"1\" class=\"dataframe\">\n",
       "  <thead>\n",
       "    <tr style=\"text-align: right;\">\n",
       "      <th></th>\n",
       "      <th>height</th>\n",
       "      <th>mu_mean</th>\n",
       "      <th>mu_perc_5.5</th>\n",
       "      <th>mu_perc_94.5</th>\n",
       "      <th>y_mean</th>\n",
       "      <th>y_perc_5.5</th>\n",
       "      <th>y_perc_94.5</th>\n",
       "    </tr>\n",
       "  </thead>\n",
       "  <tbody>\n",
       "    <tr>\n",
       "      <th>0</th>\n",
       "      <td>140.0</td>\n",
       "      <td>36.027813</td>\n",
       "      <td>35.132317</td>\n",
       "      <td>36.858528</td>\n",
       "      <td>36.294968</td>\n",
       "      <td>29.509041</td>\n",
       "      <td>43.193035</td>\n",
       "    </tr>\n",
       "    <tr>\n",
       "      <th>1</th>\n",
       "      <td>160.0</td>\n",
       "      <td>48.396389</td>\n",
       "      <td>47.981091</td>\n",
       "      <td>48.813015</td>\n",
       "      <td>48.212460</td>\n",
       "      <td>41.460472</td>\n",
       "      <td>54.981831</td>\n",
       "    </tr>\n",
       "    <tr>\n",
       "      <th>2</th>\n",
       "      <td>175.0</td>\n",
       "      <td>57.672829</td>\n",
       "      <td>56.558609</td>\n",
       "      <td>58.931301</td>\n",
       "      <td>57.739834</td>\n",
       "      <td>51.025066</td>\n",
       "      <td>64.663208</td>\n",
       "    </tr>\n",
       "  </tbody>\n",
       "</table>\n",
       "</div>"
      ],
      "text/plain": [
       "   height    mu_mean  mu_perc_5.5  mu_perc_94.5     y_mean  y_perc_5.5  \\\n",
       "0   140.0  36.027813    35.132317     36.858528  36.294968   29.509041   \n",
       "1   160.0  48.396389    47.981091     48.813015  48.212460   41.460472   \n",
       "2   175.0  57.672829    56.558609     58.931301  57.739834   51.025066   \n",
       "\n",
       "   y_perc_94.5  \n",
       "0    43.193035  \n",
       "1    54.981831  \n",
       "2    64.663208  "
      ]
     },
     "execution_count": 14,
     "metadata": {},
     "output_type": "execute_result"
    }
   ],
   "source": [
    "mu = pred_summary[\"_RETURN\"]\n",
    "y = pred_summary[\"obs\"]\n",
    "predictions = pd.DataFrame({\n",
    "    \"height\": x_table,\n",
    "    \"mu_mean\": mu[\"mean\"],\n",
    "    \"mu_perc_5.5\": mu[\"5.5%\"],\n",
    "    \"mu_perc_94.5\": mu[\"94.5%\"],\n",
    "    \"y_mean\": y[\"mean\"],\n",
    "    \"y_perc_5.5\": y[\"5.5%\"],\n",
    "    \"y_perc_94.5\": y[\"94.5%\"],\n",
    "})\n",
    "predictions"
   ]
  },
  {
   "cell_type": "markdown",
   "metadata": {},
   "source": [
    "So for this model:  \n",
    "\n",
    "| Individual | height | expected weight | 89% interva |\n",
    "|------------|--------|-----------------|-------------|\n",
    "| 1          | 140    | 36.2            | 29.4 - 42.7 |\n",
    "| 2          | 160    | 48.1            | 41.5 - 55.1 |\n",
    "| 3          | 175    | 57.0            | 50.1 - 63.8 |"
   ]
  },
  {
   "cell_type": "markdown",
   "metadata": {},
   "source": [
    "We can draw the $89\\%$ confidence interval for the weight as a function of height:"
   ]
  },
  {
   "cell_type": "code",
   "execution_count": 15,
   "metadata": {},
   "outputs": [],
   "source": [
    "samples_data = predictive(x_data)\n",
    "pred_data_summary = summary(samples_data)\n"
   ]
  },
  {
   "cell_type": "code",
   "execution_count": 16,
   "metadata": {},
   "outputs": [],
   "source": [
    "mu_data = pred_data_summary[\"_RETURN\"]\n",
    "pred_y_data = pred_data_summary[\"obs\"]\n",
    "predictions_data = pd.DataFrame({\n",
    "    \"height\": x_data,\n",
    "    \"mu_mean\": mu_data[\"mean\"],\n",
    "    \"mu_perc_5.5\": mu_data[\"5.5%\"],\n",
    "    \"mu_perc_94.5\": mu_data[\"94.5%\"],\n",
    "    \"y_mean\": pred_y_data[\"mean\"],\n",
    "    \"y_perc_5.5\": pred_y_data[\"5.5%\"],\n",
    "    \"y_perc_94.5\": pred_y_data[\"94.5%\"],\n",
    "    \"weight\": y_data,\n",
    "})\n"
   ]
  },
  {
   "cell_type": "code",
   "execution_count": 17,
   "metadata": {},
   "outputs": [
    {
     "data": {
      "image/png": "[encoded data removed]",
      "text/plain": [
       "<Figure size 864x432 with 2 Axes>"
      ]
     },
     "metadata": {},
     "output_type": "display_data"
    }
   ],
   "source": [
    "fig, ax = plt.subplots(nrows=1, ncols=2, figsize=(12, 6), sharey=True)\n",
    "fig.suptitle(\"Regression line 89% CI\", fontsize=16)\n",
    "preds_data = predictions_data.sort_values(\"height\")\n",
    "ax[0].plot(preds_data[\"height\"],\n",
    "        preds_data[\"mu_mean\"])\n",
    "ax[0].fill_between(preds_data[\"height\"],\n",
    "                   preds_data[\"mu_perc_5.5\"],\n",
    "                   preds_data[\"mu_perc_94.5\"],\n",
    "                   alpha=0.8)\n",
    "ax[0].plot(preds_data[\"height\"],\n",
    "           preds_data[\"weight\"],\n",
    "           \"o\")\n",
    "ax[0].set(xlabel=\"Height\", \n",
    "          ylabel=\"Weight\",\n",
    "          title=\"Mean weight from height\")\n",
    "\n",
    "ax[1].plot(preds_data[\"height\"],\n",
    "           preds_data[\"y_mean\"])\n",
    "ax[1].fill_between(preds_data[\"height\"],\n",
    "                   preds_data[\"y_perc_5.5\"],\n",
    "                   preds_data[\"y_perc_94.5\"],\n",
    "                   alpha=0.8)\n",
    "ax[1].plot(preds_data[\"height\"],\n",
    "           preds_data[\"weight\"],\n",
    "           \"o\")\n",
    "ax[1].set(xlabel=\"Height\", \n",
    "          ylabel=\"Weight\",\n",
    "          title=\"Weight from height\")\n",
    "pass"
   ]
  },
  {
   "cell_type": "markdown",
   "metadata": {},
   "source": [
    "2. From the Howell1 dataset, consider only the people younger than 13 years old. Estimate the causal association between age and weight. Assume that age influences weight through two paths. First, age influences height, and height influences weight. Second, age directly influences weight through agerelated changes in muscle growth and body proportions. All of this implies this causal model (DAG):  \n",
    "![DAG](DAG02.png)  \n",
    "Use a linear regression to estimate the total (not just direct) causal effect of each year of growth on weight. Be sure to carefully consider the priors. Try using prior predictive simulation to assess what they imply."
   ]
  },
  {
   "cell_type": "markdown",
   "metadata": {},
   "source": [
    "We can build a linar model for the weight as a function of age in the same way it was done for the height."
   ]
  },
  {
   "cell_type": "code",
   "execution_count": 18,
   "metadata": {},
   "outputs": [],
   "source": [
    "class WeightFromAge(PyroModule):\n",
    "    def __init__(self):\n",
    "        super().__init__()\n",
    "        self.linear = PyroModule[nn.Linear](1, 1)\n",
    "        self.linear.bias = PyroSample(dist.Normal(5., 1.).expand([1]).to_event(1))\n",
    "        self.linear.weight = PyroSample(dist.LogNormal(0., 1).expand([1, 1]).to_event(2))\n",
    "        \n",
    "    def forward(self, x, y=None):\n",
    "        x = x.view(len(x), 1)\n",
    "        sigma = pyro.sample(\"age_sigma\", dist.Exponential(1.))\n",
    "        mean = self.linear(x).squeeze(-1)\n",
    "        with pyro.plate(\"age_data\", x.shape[0]):\n",
    "            obs = pyro.sample(\"age_obs\", dist.Normal(mean, sigma), obs=y) \n",
    "        return mean"
   ]
  },
  {
   "cell_type": "code",
   "execution_count": 19,
   "metadata": {},
   "outputs": [],
   "source": [
    "howell1_13_df = howell1_df[howell1_df[\"age\"] < 13]"
   ]
  },
  {
   "cell_type": "code",
   "execution_count": 20,
   "metadata": {},
   "outputs": [],
   "source": [
    "weight_age_model = WeightFromAge()\n",
    "guide_age = AutoDiagonalNormal(weight_age_model)\n"
   ]
  },
  {
   "cell_type": "code",
   "execution_count": 21,
   "metadata": {},
   "outputs": [],
   "source": [
    "adam_age = pyro.optim.Adam({\"lr\": 0.05})\n",
    "svi_age = SVI(weight_age_model, guide_age, adam_age, loss=Trace_ELBO())\n"
   ]
  },
  {
   "cell_type": "code",
   "execution_count": 22,
   "metadata": {},
   "outputs": [
    {
     "name": "stderr",
     "output_type": "stream",
     "text": [
      "loss_lin = 2.4261: 100%|██████████| 1000/1000 [00:04<00:00, 227.50it/s]\n"
     ]
    }
   ],
   "source": [
    "pyro.clear_param_store()\n",
    "num_iterations = 1000\n",
    "x_data = torch.Tensor(howell1_13_df.age.to_numpy())\n",
    "y_data = torch.Tensor(howell1_13_df.weight.to_numpy())\n",
    "\n",
    "tq = tqdm.autonotebook.trange(num_iterations)\n",
    "for j in  tq:\n",
    "    # calculate the loss and take a gradient step\n",
    "    loss_age = svi_age.step(x_data, y_data)\n",
    "    tq.set_description(f\"loss_lin = {(loss_age / len(howell1_13_df)):.4f}\")\n"
   ]
  },
  {
   "cell_type": "code",
   "execution_count": 23,
   "metadata": {},
   "outputs": [],
   "source": [
    "predictive_age = Predictive(weight_age_model, guide=guide_age, num_samples=1000,\n",
    "                            return_sites=(\"linear.weight\", \"linear.bias\", \"age_sigma\"))"
   ]
  },
  {
   "cell_type": "code",
   "execution_count": 24,
   "metadata": {},
   "outputs": [
    {
     "data": {
      "text/html": [
       "<div>\n",
       "<style scoped>\n",
       "    .dataframe tbody tr th:only-of-type {\n",
       "        vertical-align: middle;\n",
       "    }\n",
       "\n",
       "    .dataframe tbody tr th {\n",
       "        vertical-align: top;\n",
       "    }\n",
       "\n",
       "    .dataframe thead th {\n",
       "        text-align: right;\n",
       "    }\n",
       "</style>\n",
       "<table border=\"1\" class=\"dataframe\">\n",
       "  <thead>\n",
       "    <tr style=\"text-align: right;\">\n",
       "      <th></th>\n",
       "      <th>mean</th>\n",
       "      <th>std</th>\n",
       "      <th>5.5%</th>\n",
       "      <th>94.5%</th>\n",
       "    </tr>\n",
       "  </thead>\n",
       "  <tbody>\n",
       "    <tr>\n",
       "      <th>linear_weight</th>\n",
       "      <td>1.390633</td>\n",
       "      <td>0.033308</td>\n",
       "      <td>1.340080</td>\n",
       "      <td>1.445960</td>\n",
       "    </tr>\n",
       "    <tr>\n",
       "      <th>linear_bias</th>\n",
       "      <td>7.198942</td>\n",
       "      <td>0.198837</td>\n",
       "      <td>6.880605</td>\n",
       "      <td>7.505920</td>\n",
       "    </tr>\n",
       "    <tr>\n",
       "      <th>sigma</th>\n",
       "      <td>2.500061</td>\n",
       "      <td>0.150181</td>\n",
       "      <td>2.266605</td>\n",
       "      <td>2.745358</td>\n",
       "    </tr>\n",
       "  </tbody>\n",
       "</table>\n",
       "</div>"
      ],
      "text/plain": [
       "                   mean       std      5.5%     94.5%\n",
       "linear_weight  1.390633  0.033308  1.340080  1.445960\n",
       "linear_bias    7.198942  0.198837  6.880605  7.505920\n",
       "sigma          2.500061  0.150181  2.266605  2.745358"
      ]
     },
     "execution_count": 24,
     "metadata": {},
     "output_type": "execute_result"
    }
   ],
   "source": [
    "s_age = summary(predictive_age(torch.Tensor([0.])))\n",
    "pd.DataFrame(\n",
    "    {stat: {\n",
    "            \"linear_weight\": s_age[\"linear.weight\"][stat][0, 0, 0].item(),\n",
    "            \"linear_bias\": s_age[\"linear.bias\"][stat][0, 0].item(),\n",
    "            \"sigma\": s_age[\"age_sigma\"][stat][0].item()\n",
    "        } for stat in [\"mean\", \"std\", \"5.5%\", \"94.5%\"]\n",
    "    })"
   ]
  }
 ],
 "metadata": {
  "kernelspec": {
   "display_name": "Python 3.7.11 ('torch')",
   "language": "python",
   "name": "python3"
  },
  "language_info": {
   "codemirror_mode": {
    "name": "ipython",
    "version": 3
   },
   "file_extension": ".py",
   "mimetype": "text/x-python",
   "name": "python",
   "nbconvert_exporter": "python",
   "pygments_lexer": "ipython3",
   "version": "3.7.11"
  },
  "orig_nbformat": 4,
  "vscode": {
   "interpreter": {
    "hash": "80405bd19cfdd83c3e885f12c152c40f4588e551ddca57842b77a908de0a6d38"
   }
  }
 },
 "nbformat": 4,
 "nbformat_minor": 2
}
